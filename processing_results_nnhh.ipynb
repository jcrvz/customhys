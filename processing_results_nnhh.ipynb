{
 "cells": [
  {
   "cell_type": "markdown",
   "metadata": {},
   "source": [
    "# Notebook utilised for processing results of CEC22 Manuscript 2494"
   ]
  },
  {
   "cell_type": "markdown",
   "metadata": {},
   "source": [
    "This Jupyter Notebook process the results of the work entitled **A Primary Study on Hyper-Heuristics Powered by Artificial Neural Networks for Customising Population-based Metaheuristics in Continuous Optimisation Problems** presented in *CEC-22*."
   ]
  },
  {
   "cell_type": "markdown",
   "metadata": {},
   "source": [
    "Authors: _José Manuel Tapia-Avitia, Jorge M. Cruz-Duarte, Ivan Amaya, José Carlos Ortiz-Bayliss, Hugo Terashima Marín, Nelishia Pillay_"
   ]
  },
  {
   "cell_type": "markdown",
   "metadata": {},
   "source": [
    "## General settings"
   ]
  },
  {
   "cell_type": "markdown",
   "metadata": {},
   "source": [
    "### Modules"
   ]
  },
  {
   "cell_type": "markdown",
   "metadata": {},
   "source": [
    "Let's import the modules that we would uses for process the results."
   ]
  },
  {
   "cell_type": "code",
   "execution_count": 1,
   "metadata": {},
   "outputs": [],
   "source": [
    "import matplotlib.pyplot as plt\n",
    "import numpy as np\n",
    "import os\n",
    "import pandas as pd\n",
    "import scipy.stats as st\n",
    "import seaborn as sns\n",
    "from mpmath import *\n",
    "from decimal import Decimal\n",
    "\n",
    "import tools as tl\n",
    "import benchmark_func as bf"
   ]
  },
  {
   "cell_type": "markdown",
   "metadata": {},
   "source": [
    "### Constants"
   ]
  },
  {
   "cell_type": "markdown",
   "metadata": {},
   "source": [
    "A few constants to arrange the figures."
   ]
  },
  {
   "cell_type": "code",
   "execution_count": 2,
   "metadata": {},
   "outputs": [],
   "source": [
    "sns.set(context=\"paper\", font_scale=1.8, palette=\"husl\", style=\"ticks\",\n",
    "        rc={'font.family': 'serif', 'font.size': 18,\n",
    "            \"xtick.major.top\": False, \"ytick.major.right\": False})\n",
    "plt.rc('font', size=18) \n",
    "\n",
    "# Saving images flag\n",
    "is_saving = True\n",
    "show_plots = True\n",
    "saving_format = 'png'\n",
    "\n",
    "figures_folder = 'data_files/exp_figures/'\n",
    "experiment_folder = 'data_files/exp_output'\n",
    "if is_saving:\n",
    "    # Read (or create if so) a folder for storing images\n",
    "    if not os.path.isdir(figures_folder):\n",
    "        os.mkdir(figures_folder)"
   ]
  },
  {
   "cell_type": "markdown",
   "metadata": {},
   "source": [
    "## Experiment information"
   ]
  },
  {
   "cell_type": "markdown",
   "metadata": {},
   "source": [
    "General information of the experiments"
   ]
  },
  {
   "cell_type": "code",
   "execution_count": 3,
   "metadata": {},
   "outputs": [],
   "source": [
    "# Experiments names\n",
    "data_files = dict({\n",
    "    #'Bert': {\n",
    "    #    'filename': 'demo_transformers_2bert',\n",
    "    #    'ID': 'bert'\n",
    "    #},\n",
    "    #\"Epochs\": {\n",
    "    #    \"filename\": \"demo_transformers_epochs\",\n",
    "    #    \"ID\": \"distilbert\\_epochs\"\n",
    "    #},\n",
    "    #'Distilbert': {\n",
    "    #    'filename': 'demo_transformers',\n",
    "    #    'ID': 'distilbert'\n",
    "    #},\n",
    "    \"DLSTM\": {\n",
    "        \"filename\": \"default_nn_lstm_double_sigmoid_new\",\n",
    "        \"ID\": \"dlstm\\_original\"\n",
    "    },\n",
    "    \"DLSTMnew\": {\n",
    "        \"filename\": \"default_nn_best_double_lstm\",\n",
    "        \"ID\": \"dlstm\\_new\"\n",
    "    },\n",
    "})"
   ]
  },
  {
   "cell_type": "markdown",
   "metadata": {},
   "source": [
    "Retrieve 'default' collection (205 search operators) and the basic metaheuristic collection (66 MH configurations)"
   ]
  },
  {
   "cell_type": "code",
   "execution_count": 4,
   "metadata": {},
   "outputs": [],
   "source": [
    "# Read operators and find their alias\n",
    "collections = ['default.txt', 'basicmetaheuristics.txt']\n",
    "\n",
    "encoded_heuristic_space = dict()\n",
    "for collection_file in collections:\n",
    "    with open('./collections/' + collection_file, 'r') as operators_file:\n",
    "        encoded_heuristic_space[collection_file] = [eval(line.rstrip('\\n')) for line in operators_file]\n",
    "\n",
    "# Search operator aliases\n",
    "perturbator_alias = {\n",
    "    'random_search': 'RS',\n",
    "    'central_force_dynamic': 'CF',\n",
    "    'differential_mutation': 'DM',\n",
    "    'firefly_dynamic': 'FD',\n",
    "    'genetic_crossover': 'GC',\n",
    "    'genetic_mutation': 'GM',\n",
    "    'gravitational_search': 'GS',\n",
    "    'random_flight': 'RF',\n",
    "    'local_random_walk': 'RW',\n",
    "    'random_sample': 'RX',\n",
    "    'spiral_dynamic': 'SD',\n",
    "    'swarm_dynamic': 'PS'}\n",
    "\n",
    "selector_alias = {'greedy': 'g', 'all': 'd', 'metropolis': 'm', 'probabilistic': 'p'}\n",
    "\n",
    "operator_families = {y: i for i, y in enumerate(sorted([x for x in perturbator_alias.values()]))}\n",
    "\n",
    "# Pre-build the alias list\n",
    "heuristic_space = dict()\n",
    "for collection_file in collections:\n",
    "    if all(isinstance(x, tuple) for x in encoded_heuristic_space[collection_file]):\n",
    "        heuristic_space[collection_file] = [perturbator_alias[x[0]] + selector_alias[x[2]]\n",
    "                                            for x in encoded_heuristic_space[collection_file]]\n",
    "\n",
    "# Find repeated elements\n",
    "for collection_file in collections:\n",
    "    if collection_file in heuristic_space:\n",
    "        for heuristic in heuristic_space[collection_file]:\n",
    "            concurrences = tl.listfind(heuristic_space[collection_file], heuristic)\n",
    "            if len(concurrences) > 1:\n",
    "                for count, idx in enumerate(concurrences):\n",
    "                    heuristic_space[collection_file][idx] += f'{count + 1}'"
   ]
  },
  {
   "cell_type": "markdown",
   "metadata": {},
   "source": [
    "Pre-process results. Unzip the experiment results using the instructions of [README](./README.md) before continue."
   ]
  },
  {
   "cell_type": "code",
   "execution_count": 5,
   "metadata": {},
   "outputs": [],
   "source": [
    "# Number of dimensions\n",
    "dimensions = [2, 10, 30, 50]\n",
    "num_dims = len(dimensions)\n",
    "\n",
    "def sort_dataset(dataset):\n",
    "    # Sort the results of the 428 problems in lexicographically order\n",
    "    list_pair_results = list(zip(dataset['problem'],\n",
    "                                 dataset['dimensions'],\n",
    "                                 dataset['results']))\n",
    "    list_pair_results.sort()\n",
    "    dataset['problem'], dataset['dimensions'], dataset['results'] = [], [], []\n",
    "    for problem, dimension, result in list_pair_results:\n",
    "        dataset['problem'].append(problem)\n",
    "        dataset['dimensions'].append(dimension)\n",
    "        dataset['results'].append(result)\n",
    "        \n",
    "def filter_by_dimensions(dataset):\n",
    "    # Filter the dataset allowing only the dimensions from 'dimensions' list.\n",
    "    # The usercase is for the basic metaheuristics that has results for extra \n",
    "    # dimensions out of scope of this paper.\n",
    "    allowed_dim_inds = [index for d in dimensions for index in tl.listfind(dataset['dimensions'], d)]\n",
    "    dict_filtered = {key: [val[x] for x in allowed_dim_inds] for key, val in dataset.items()}\n",
    "    sort_dataset(dict_filtered)\n",
    "    return dict_filtered\n",
    "\n",
    "# Take the last element of a list or the last elements of a list of lists\n",
    "last_elements = lambda seqs: seqs[-1] if type(seqs[0]) == float else [seq[-1] for seq in seqs] \n",
    "\n",
    "def success_comparison(experimentA, experimentB):\n",
    "    # Compare the proportion of outperform between two experiments\n",
    "    # The percentage is the proportion of cases where A outperform B\n",
    "    performance_diff = [np.copy(x - np.array(y)) for x, y in zip(experimentA, experimentB)]\n",
    "    if len(performance_diff[0].shape) == 0:\n",
    "        # uMHs\n",
    "        return [1 if x <= 0.0 else 0 for x in performance_diff]\n",
    "    else:\n",
    "        # bMHs\n",
    "        return [np.sum(x <= 0.0) / len(x) for x in performance_diff]"
   ]
  },
  {
   "cell_type": "markdown",
   "metadata": {},
   "source": [
    "## Processing results"
   ]
  },
  {
   "cell_type": "markdown",
   "metadata": {},
   "source": [
    "### Basic Metaheuristics results"
   ]
  },
  {
   "cell_type": "code",
   "execution_count": 6,
   "metadata": {},
   "outputs": [],
   "source": [
    "# Read basic metaheuristics\n",
    "basic_mhs_collection = encoded_heuristic_space['basicmetaheuristics.txt']\n",
    "\n",
    "# Read basic metaheuristics cardinality\n",
    "basic_mhs_cadinality = [1 if isinstance(x, tuple) else len(x) for x in basic_mhs_collection]\n",
    "\n",
    "# Load data from basic metaheuristics\n",
    "basic_mhs_data = filter_by_dimensions(tl.read_json(f'{experiment_folder}/basic-metaheuristics-data_v2.json'))\n",
    "basic_metaheuristics = basic_mhs_data['results'][0]['operator_id']\n",
    "\n",
    "long_dimensions = basic_mhs_data['dimensions']\n",
    "long_problems = basic_mhs_data['problem']\n",
    "\n",
    "# Mathematical attributes\n",
    "chosen_categories = ['Differentiable', 'Unimodal']\n",
    "case_label = 'DU'\n",
    "\n",
    "# Call the problem categories\n",
    "problem_features = bf.list_functions(fts=chosen_categories)\n",
    "categories = sorted(set([problem_features[x]['Code'] for x in basic_mhs_data['problem']]), reverse=True)\n",
    "# Extra plot configurations\n",
    "cmap = plt.get_cmap('tab20')\n",
    "colour_cat = [cmap(i)[:-1] for i in np.linspace(0, 1, len(categories))]\n",
    "colour_dim = [cmap(i)[:-1] for i in np.linspace(0, 1, len(dimensions))]\n",
    "\n",
    "# Performance array\n",
    "bMH_performance = [x['performance'] for x in np.copy(basic_mhs_data['results'])]"
   ]
  },
  {
   "cell_type": "markdown",
   "metadata": {},
   "source": [
    "### Unfolded Metaheuristics results (Random Search)"
   ]
  },
  {
   "cell_type": "code",
   "execution_count": 7,
   "metadata": {},
   "outputs": [],
   "source": [
    "# Obtain results of unfolded performances\n",
    "temporal_data = tl.read_json(f'{experiment_folder}/unfolded_hhs_pop30.json')\n",
    "data_frame = filter_by_dimensions(temporal_data)\n",
    "uMH_pop30_performance = [x['performance'][-1] for x in data_frame['results']]"
   ]
  },
  {
   "cell_type": "markdown",
   "metadata": {},
   "source": [
    "### Experiments results (LSTM)"
   ]
  },
  {
   "cell_type": "code",
   "execution_count": 8,
   "metadata": {},
   "outputs": [],
   "source": [
    "# Retrive the results per experiment\n",
    "data_tables = dict()\n",
    "for experiment in data_files:\n",
    "    # Experiment data\n",
    "    filename = data_files[experiment]['filename']\n",
    "    temporal_data = tl.read_json(f'{experiment_folder}/{filename}.json')\n",
    "    data_frame = filter_by_dimensions(temporal_data)\n",
    "\n",
    "    # Experiment performance\n",
    "    best_pos_sequences = [np.argmin(last_elements(x['hist_fitness'])) for x in data_frame['results']]\n",
    "    performance = [x['performance'] for x in data_frame['results']]\n",
    "\n",
    "    # Experiment vs Literature\n",
    "    success_rates_bMHs = success_comparison(performance, bMH_performance)\n",
    "    success_rates_uMH30 = success_comparison(performance, uMH_pop30_performance)\n",
    "    \n",
    "    # Statistics\n",
    "    hFitness = [last_elements(x['hist_fitness']) for x in data_frame['results']]\n",
    "\n",
    "    # Further insights\n",
    "    best_sequences = [x['encoded_solution'][best_sol] for x, best_sol in zip(data_frame['results'],\n",
    "                                                                             best_pos_sequences)]\n",
    "    cardinality = [len(x) for x in best_sequences]\n",
    "\n",
    "    # Summary\n",
    "    id = data_files[experiment]['ID']\n",
    "    data_tables[id] = pd.DataFrame({\n",
    "        'Dim': [str(x) for x in data_frame['dimensions']],\n",
    "        'Pop': 30,\n",
    "        'Problem': data_frame['problem'],\n",
    "        'Cat': [problem_features[x]['Code'] for x in data_frame['problem']],\n",
    "        'Performance': performance,\n",
    "        'Steps': [x['rep'][-1] for x in data_frame['results']],\n",
    "        'Cardinality': cardinality,\n",
    "        'hFitness': hFitness,\n",
    "        'successRate': success_rates_bMHs,\n",
    "        'successRateUMH30': success_rates_uMH30,\n",
    "    })\n",
    "    \n",
    "# Melt data in one table\n",
    "full_table = pd.concat(data_tables, axis=0, names=['ID', 'RID']).reset_index(level=0)\n",
    "full_table['Dim'] = full_table['Dim'].apply(lambda x: int(x))\n",
    "full_table['Pop'] = full_table['Pop'].apply(lambda x: int(x))\n",
    "\n",
    "full_table['Rank'] = full_table.groupby(by=['Dim', 'Problem'])['Performance'].rank(method='dense')\n",
    "full_table['RankSR'] = full_table.groupby(by=['Dim', 'Problem'])['successRate'].rank(method='dense', ascending=False)\n",
    "full_table['DimPop'] = full_table[['Dim', 'Pop']].agg(tuple, axis=1)\n",
    "\n",
    "full_table = full_table.reset_index()"
   ]
  },
  {
   "cell_type": "code",
   "execution_count": 9,
   "metadata": {},
   "outputs": [
    {
     "data": {
      "text/html": [
       "<div>\n",
       "<style scoped>\n",
       "    .dataframe tbody tr th:only-of-type {\n",
       "        vertical-align: middle;\n",
       "    }\n",
       "\n",
       "    .dataframe tbody tr th {\n",
       "        vertical-align: top;\n",
       "    }\n",
       "\n",
       "    .dataframe thead th {\n",
       "        text-align: right;\n",
       "    }\n",
       "</style>\n",
       "<table border=\"1\" class=\"dataframe\">\n",
       "  <thead>\n",
       "    <tr style=\"text-align: right;\">\n",
       "      <th></th>\n",
       "      <th>RID</th>\n",
       "      <th>ID</th>\n",
       "      <th>Dim</th>\n",
       "      <th>Pop</th>\n",
       "      <th>Problem</th>\n",
       "      <th>Cat</th>\n",
       "      <th>Performance</th>\n",
       "      <th>Steps</th>\n",
       "      <th>Cardinality</th>\n",
       "      <th>hFitness</th>\n",
       "      <th>successRate</th>\n",
       "      <th>successRateUMH30</th>\n",
       "      <th>Rank</th>\n",
       "      <th>RankSR</th>\n",
       "      <th>DimPop</th>\n",
       "    </tr>\n",
       "  </thead>\n",
       "  <tbody>\n",
       "  </tbody>\n",
       "</table>\n",
       "</div>"
      ],
      "text/plain": [
       "Empty DataFrame\n",
       "Columns: [RID, ID, Dim, Pop, Problem, Cat, Performance, Steps, Cardinality, hFitness, successRate, successRateUMH30, Rank, RankSR, DimPop]\n",
       "Index: []"
      ]
     },
     "execution_count": 9,
     "metadata": {},
     "output_type": "execute_result"
    }
   ],
   "source": [
    "full_table[full_table[\"ID\"] == \"distilbert\"]"
   ]
  },
  {
   "cell_type": "code",
   "execution_count": 10,
   "metadata": {},
   "outputs": [
    {
     "data": {
      "text/html": [
       "<div>\n",
       "<style scoped>\n",
       "    .dataframe tbody tr th:only-of-type {\n",
       "        vertical-align: middle;\n",
       "    }\n",
       "\n",
       "    .dataframe tbody tr th {\n",
       "        vertical-align: top;\n",
       "    }\n",
       "\n",
       "    .dataframe thead th {\n",
       "        text-align: right;\n",
       "    }\n",
       "</style>\n",
       "<table border=\"1\" class=\"dataframe\">\n",
       "  <thead>\n",
       "    <tr style=\"text-align: right;\">\n",
       "      <th></th>\n",
       "      <th>RID</th>\n",
       "      <th>ID</th>\n",
       "      <th>Dim</th>\n",
       "      <th>Pop</th>\n",
       "      <th>Problem</th>\n",
       "      <th>Cat</th>\n",
       "      <th>Performance</th>\n",
       "      <th>Steps</th>\n",
       "      <th>Cardinality</th>\n",
       "      <th>hFitness</th>\n",
       "      <th>successRate</th>\n",
       "      <th>successRateUMH30</th>\n",
       "      <th>Rank</th>\n",
       "      <th>RankSR</th>\n",
       "      <th>DimPop</th>\n",
       "    </tr>\n",
       "  </thead>\n",
       "  <tbody>\n",
       "  </tbody>\n",
       "</table>\n",
       "</div>"
      ],
      "text/plain": [
       "Empty DataFrame\n",
       "Columns: [RID, ID, Dim, Pop, Problem, Cat, Performance, Steps, Cardinality, hFitness, successRate, successRateUMH30, Rank, RankSR, DimPop]\n",
       "Index: []"
      ]
     },
     "execution_count": 10,
     "metadata": {},
     "output_type": "execute_result"
    }
   ],
   "source": [
    "full_table[full_table[\"ID\"] == \"bert\"]"
   ]
  },
  {
   "cell_type": "markdown",
   "metadata": {},
   "source": [
    "### Statistical analysis"
   ]
  },
  {
   "cell_type": "markdown",
   "metadata": {},
   "source": [
    "#### Wilcoxon test"
   ]
  },
  {
   "cell_type": "code",
   "execution_count": 11,
   "metadata": {},
   "outputs": [
    {
     "name": "stdout",
     "output_type": "stream",
     "text": [
      "[0.0014553425883558901, 2.532294834034974, 12.004733846714707, 18.237946881250114, -3.297860823100641, -9.103575084848483, 78.53543888315545, 243.19518034090527, 0.00012952065024450407, 0.060557334069515176, 8.40025774496712, 17.08078655291485, -6.129503871594514, -760.8570032959551, 26458015635.13994, 9.62334361587497e+16, 7.287665379496211e-08, 2.275792809402692, 48.70346570528282, 269.6896245530782, 1.3649262425028126e-08, 0.0017541442215380093, 3.28399698018866, 40.45765116580205, 8.560045570213389e-11, 0.00011097757289637891, 4.204999116777282, 60.05124538433354, -24.156815543738272, -867668.0511733115, -378203493362.2686, -80824277017404.0, 2.0126168211306925e-18, 0.008718367767783754, 127540.71271722091, 11445959.274740722, 1.1145910438494469e-06, 48638.54439579909, 277585859.7103145, 3429132672.6132584, -2.2, -11.0, -33.0, -55.0, -2.0626118615631603, -1.5565154065101616, -0.5654985789155987, -0.20918026616503693, -0.001821036461360337, -1.0, -1.0, -1.0, 0.05435131911201631, 0.0001, 0.0001, 0.0001, 1.7505456000592039e-31, 3.7806059100567525e-12, 0.0003776152135039443, 0.04624826063121578, -0.9999724426653539, -0.9980712048227005, -0.8880143713237596, -0.7714823813009883, -0.9999999941425896, -0.998847621569518, -0.9556569307917785, -0.8680320302366582, -0.9969480751053547, 0.09661456643911465, 2.9163459176095605, 8.398801174673004, 5.438860067581121e-07, 0.6360149638928584, 421.657241995131, 19518.04570122242, -0.9931181061226295, -0.6194984128975792, -0.08353884756211946, -0.04839109049180181, -959.6406622975668, -5159.401636331659, -12200.497433887896, -18579.327458281256, 2.9005365099208834e-09, 0.004833851490520474, 35.74515610945679, 185.2969163313149, 0.04368096665259902, 6.093986949990853, 344.19545322432776, 4583.3783412880275, 0.0035429322319314727, 3.215098922696546, 393.0026723820405, 4438.813837001651, 0.005564649908293973, 93.1213183912763, 1097.3388927265012, 3575.9135104619463, 0.0006809525838207264, 240.30255146382223, 924.7795284696201, 3006.5814180613106, -3.9975447516884253, -16.263700475585377, 386.3336919800769, 3618.392044487585, -0.999999999852441, -0.9999770019403749, -0.9871286424047426, -0.8450196879971349, -0.9999916090648805, 0.055838666095050594, 4.4214370621721095e-11, 8.169488730797076e-21, 0.06447042064564554, -2.077546264370242, -6.8335827373885305, -11.424722525248242, 0.01415099517879842, 0.40928176175111225, 1.1286225373790275, 1.7027738806783237, 0.18313738461088513, 0.6794897194418339, 11.288021675528574, 56.13436078889377, 1.3961061157906759e-08, 0.007186446568089686, 15.714593746442596, 205.72659630880554, -0.9999861748263447, -5.71798780819792, -9.19343203377247, -13.481277170169413, 124.36243890658113, 23.563298952869292, 147.06476529896884, 852.2011909719765, 2.471098074087296e-07, 0.32614763665948754, 1833.7330197114718, 35649.24925054774, 1.0, 1.0, 880758401.0, 1.537252543045955e+29, 4.178434836556967e-09, 0.4801372310335161, 13.7003406514983, 33.32767355450539, 2.4751788616418758e-09, 19.99952779586205, 58.719047363618785, 103.71055908715894, 0.9949608242080497, 32.014233785006766, 173.67734781513366, 366.17798930322004, -1.8013033928944882, -7.801072824715826, -16.17913507803533, -20.053701524928808, 2.0, 2.0, 2.0, 2.03536132762715, 0.0, 1.7810306878674842e-11, 5.35626641275372e-06, 0.00021478180190698804, 2.0, 2.0, 2.0, 3.952847075210474, 1.9245251018159505e-07, 22822805.408504575, 6.98295739189215e+64, 9.250170652825078e+128, 7.340656343918228e-05, 0.12550313232256702, 1.635763103062953, 28.93366005259797, 1.0, 1000.5340598182149, 3028.196067702581, 4956.644648120547, 0.5000000000023276, 4.500001707172335, 14.500102730259218, 24.50101168064494, 0.9000028649811327, 1.0027692417227598, 1.3106963110151635, 3.339450353188324, 1.5108621237808288e-05, 52815687558004.77, 2.549125847165164e+83, 6.108965755493677e+164, 2.488949354741829e-07, 5.2187999053551835, 6.068957050769348e+53, 2.60723806795078e+130, 5.982563585227507e-10, 232.0683240590109, 4245.2697958289245, 14665.326707704719, 4.910640495330564e-14, 3.1045815789022545e-09, 8.057324138556356e-07, 1.4650189341133976e-06, 2.3816123055501426e-07, 1.2527645170575947, 4395.567265352064, 90615.39247668517, 1.3198366136541176e-06, 19.96135682755555, 32268657.224741288, 744511849.8341848, 4.955271095805325e-22, 1.4714729912900694e-08, 0.022800207056108263, 0.8071101906060488, 0.00019836940215800514, 1.0999182585533198, 68.18574956359686, 479.67537464940415, -533.0608360915039, -4211.691181490914, -9381.973084085164, -13815.595918522351, 6.0062392691406785e-05, 20.8375911550869, 110.28516570110315, 201.15172734701605, -2.240540677076948, -2.2405315436404942, -2.2078897919866787, -1.9733592109313025, 0.0007162693636679694, 151.38408971304418, 50653.453563058865, 1823898.1046581285, 6.715563949737079e-09, 0.23867789751674973, 3287.076957929373, 36548.4089993879, 0.13457110046754797, 0.6216366043353003, 4.107919972894445, 9.822001244219127, 5.693510052259686e-09, 1.3342570949436916, 14441.603160632112, 172359.0216857705, -0.2795983754239814, 0.49974854010570624, 4.95510582122465, 12.995531410098675, -0.2802506343577767, -0.08945466672085534, 3.7562077252426054, 8.772689120091618, 0.0050112620024907045, 2.5004901641826405, 10.852708546800306, 20.013167663268547, 0.2941777353367956, 4.00397348562195, 13.814419938734313, 23.897499469791992, -0.28111395298850994, -2.4964892930145886, -4.380002874194627, -4.574136562368733, -18.095289052610806, 435966.5565614186, 4737788430.453529, 50755835.696157105, -29.67584385653126, -113.79777493018868, -211.22943072937932, -322.55679072990785, -25.741714811667677, -96.11811291834644, -194.01790010250616, -269.0300982313643, 9.8960035434521e-16, 0.025242554809704422, 65229.57142095019, 1300200.8951501288, 0.000299716038661195, 0.668127761774491, 16.527963110611815, 70.33013477423495, 4.939496739883703e-08, 7.074553975357236, 4667.764441061537, 19040.769330917843, 1.120037620129161e-09, 0.015376045131845414, 151.6473410929662, 2057.6125574199273, 0.00019686883724178908, 0.9128869508184969, 136.59945059510562, 368.048751989127, 0.0083909932793384, 1.6727907659155636, 31.60111692929592, 39.18488500543988, 0.00018457934611317405, 1.317064883120201, 387.2475249196797, 22805426.35389225, 1.2712542460691677e-49, 2.71587587756137e-14, 327.8202187831113, 71374.53444722715, 2.60084845143882e-09, 0.8325882716914322, 235.4959952584869, 1187.346381312846, -488.51868124451573, -368.96892823189984, -258.7500311030517, -217.62945811084512, 3.292864702802909e-08, 0.053852661879609284, 276.1065753180568, 4153.705337354706, 0.0, 0.0, 62.0, 277.5, 0.0, 1.0, 312.0, 4431.0, 0.0, 0.0, 257.75, 4086.0, 13.0, -35.0, -155.0, -264.0, 5.629449904519547e-05, 0.3190992335190674, 7.783076791703699, 15.612907941901232, 0.0016376528359299464, 0.5951127237865729, 16.146507328838382, 40.73409517276282, -78.33233129988304, -335.1159185300531, -961.2052312795523, -1497.7503813249962, 1.2314112144985158e-08, 0.008960547370108096, 59.69243261245841, 668.8182199678995, -1.9999999742611225, -136.58321733478436, 56658.59477182635, 1866440.5164113739, 0.0, 0.0, 17719.42619488311, 1231597.844819503, 1.0000070036512818, 46.41275462954346, 10950.486947244335, 87768.01065270705, 4.5533937949024383e-05, 0.004995356474535867, 0.06753757011043357, 0.10946633821665853, 0.016701298500721107, 0.16807372043032165, 0.22913194729017067, 0.24687671913979925, -1.999999999482934, -9.999530586401063, -29.234370219864736, -46.37017167136479, 2.2759584014653278e-07, 0.30078443184847303, 0.5038081591193748, 0.575963585844548, 4.003085202835666, 182.52156339894148, 1758.121341195405, 4940.322717953718, -3.9669372696441005, -18.57790349121416, 10435.75287692153, 2553721.7474660613, 3.5286665931943107e-07, 0.00039658893928222754, 8.046737539594233, 25512.328597970052, 0.00031569447706471113, 0.0023329831443796075, 2.0550236407063373e-11, 1.1789847868312567e-19, -0.749997339009834, 7.571346428786026e-78, 4.3402960507352576e-232, 0.0, -0.999999027770013, 0.0004553290912439608, 1.2905359371925014e-11, 2.3355292127680664e-19, 9.947899217710443e-06, 20.034418131406625, 98.40569538348703, 198.98267473467007, 7.523545245208626e-10, 0.031093480369527776, 117.41684056863943, 512.6227723817741, 0.0, 4.40258959605145, 6.720846717881283, 7.795921123387342]\n",
      "dlstm\\_original dlstm\\_new\n",
      "[0.0014553425883558901, 2.532294834034974, 12.004733846714707, 18.237946881250114, -3.297860823100641, -9.103575084848483, 78.53543888315545, 243.19518034090527, 0.00012952065024450407, 0.060557334069515176, 8.40025774496712, 17.08078655291485, -6.129503871594514, -760.8570032959551, 26458015635.13994, 9.62334361587497e+16, 7.287665379496211e-08, 2.275792809402692, 48.70346570528282, 269.6896245530782, 1.3649262425028126e-08, 0.0017541442215380093, 3.28399698018866, 40.45765116580205, 8.560045570213389e-11, 0.00011097757289637891, 4.204999116777282, 60.05124538433354, -24.156815543738272, -867668.0511733115, -378203493362.2686, -80824277017404.0, 2.0126168211306925e-18, 0.008718367767783754, 127540.71271722091, 11445959.274740722, 1.1145910438494469e-06, 48638.54439579909, 277585859.7103145, 3429132672.6132584, -2.2, -11.0, -33.0, -55.0, -2.0626118615631603, -1.5565154065101616, -0.5654985789155987, -0.20918026616503693, -0.001821036461360337, -1.0, -1.0, -1.0, 0.05435131911201631, 0.0001, 0.0001, 0.0001, 1.7505456000592039e-31, 3.7806059100567525e-12, 0.0003776152135039443, 0.04624826063121578, -0.9999724426653539, -0.9980712048227005, -0.8880143713237596, -0.7714823813009883, -0.9999999941425896, -0.998847621569518, -0.9556569307917785, -0.8680320302366582, -0.9969480751053547, 0.09661456643911465, 2.9163459176095605, 8.398801174673004, 5.438860067581121e-07, 0.6360149638928584, 421.657241995131, 19518.04570122242, -0.9931181061226295, -0.6194984128975792, -0.08353884756211946, -0.04839109049180181, -959.6406622975668, -5159.401636331659, -12200.497433887896, -18579.327458281256, 2.9005365099208834e-09, 0.004833851490520474, 35.74515610945679, 185.2969163313149, 0.04368096665259902, 6.093986949990853, 344.19545322432776, 4583.3783412880275, 0.0035429322319314727, 3.215098922696546, 393.0026723820405, 4438.813837001651, 0.005564649908293973, 93.1213183912763, 1097.3388927265012, 3575.9135104619463, 0.0006809525838207264, 240.30255146382223, 924.7795284696201, 3006.5814180613106, -3.9975447516884253, -16.263700475585377, 386.3336919800769, 3618.392044487585, -0.999999999852441, -0.9999770019403749, -0.9871286424047426, -0.8450196879971349, -0.9999916090648805, 0.055838666095050594, 4.4214370621721095e-11, 8.169488730797076e-21, 0.06447042064564554, -2.077546264370242, -6.8335827373885305, -11.424722525248242, 0.01415099517879842, 0.40928176175111225, 1.1286225373790275, 1.7027738806783237, 0.18313738461088513, 0.6794897194418339, 11.288021675528574, 56.13436078889377, 1.3961061157906759e-08, 0.007186446568089686, 15.714593746442596, 205.72659630880554, -0.9999861748263447, -5.71798780819792, -9.19343203377247, -13.481277170169413, 124.36243890658113, 23.563298952869292, 147.06476529896884, 852.2011909719765, 2.471098074087296e-07, 0.32614763665948754, 1833.7330197114718, 35649.24925054774, 1.0, 1.0, 880758401.0, 1.537252543045955e+29, 4.178434836556967e-09, 0.4801372310335161, 13.7003406514983, 33.32767355450539, 2.4751788616418758e-09, 19.99952779586205, 58.719047363618785, 103.71055908715894, 0.9949608242080497, 32.014233785006766, 173.67734781513366, 366.17798930322004, -1.8013033928944882, -7.801072824715826, -16.17913507803533, -20.053701524928808, 2.0, 2.0, 2.0, 2.03536132762715, 0.0, 1.7810306878674842e-11, 5.35626641275372e-06, 0.00021478180190698804, 2.0, 2.0, 2.0, 3.952847075210474, 1.9245251018159505e-07, 22822805.408504575, 6.98295739189215e+64, 9.250170652825078e+128, 7.340656343918228e-05, 0.12550313232256702, 1.635763103062953, 28.93366005259797, 1.0, 1000.5340598182149, 3028.196067702581, 4956.644648120547, 0.5000000000023276, 4.500001707172335, 14.500102730259218, 24.50101168064494, 0.9000028649811327, 1.0027692417227598, 1.3106963110151635, 3.339450353188324, 1.5108621237808288e-05, 52815687558004.77, 2.549125847165164e+83, 6.108965755493677e+164, 2.488949354741829e-07, 5.2187999053551835, 6.068957050769348e+53, 2.60723806795078e+130, 5.982563585227507e-10, 232.0683240590109, 4245.2697958289245, 14665.326707704719, 4.910640495330564e-14, 3.1045815789022545e-09, 8.057324138556356e-07, 1.4650189341133976e-06, 2.3816123055501426e-07, 1.2527645170575947, 4395.567265352064, 90615.39247668517, 1.3198366136541176e-06, 19.96135682755555, 32268657.224741288, 744511849.8341848, 4.955271095805325e-22, 1.4714729912900694e-08, 0.022800207056108263, 0.8071101906060488, 0.00019836940215800514, 1.0999182585533198, 68.18574956359686, 479.67537464940415, -533.0608360915039, -4211.691181490914, -9381.973084085164, -13815.595918522351, 6.0062392691406785e-05, 20.8375911550869, 110.28516570110315, 201.15172734701605, -2.240540677076948, -2.2405315436404942, -2.2078897919866787, -1.9733592109313025, 0.0007162693636679694, 151.38408971304418, 50653.453563058865, 1823898.1046581285, 6.715563949737079e-09, 0.23867789751674973, 3287.076957929373, 36548.4089993879, 0.13457110046754797, 0.6216366043353003, 4.107919972894445, 9.822001244219127, 5.693510052259686e-09, 1.3342570949436916, 14441.603160632112, 172359.0216857705, -0.2795983754239814, 0.49974854010570624, 4.95510582122465, 12.995531410098675, -0.2802506343577767, -0.08945466672085534, 3.7562077252426054, 8.772689120091618, 0.0050112620024907045, 2.5004901641826405, 10.852708546800306, 20.013167663268547, 0.2941777353367956, 4.00397348562195, 13.814419938734313, 23.897499469791992, -0.28111395298850994, -2.4964892930145886, -4.380002874194627, -4.574136562368733, -18.095289052610806, 435966.5565614186, 4737788430.453529, 50755835.696157105, -29.67584385653126, -113.79777493018868, -211.22943072937932, -322.55679072990785, -25.741714811667677, -96.11811291834644, -194.01790010250616, -269.0300982313643, 9.8960035434521e-16, 0.025242554809704422, 65229.57142095019, 1300200.8951501288, 0.000299716038661195, 0.668127761774491, 16.527963110611815, 70.33013477423495, 4.939496739883703e-08, 7.074553975357236, 4667.764441061537, 19040.769330917843, 1.120037620129161e-09, 0.015376045131845414, 151.6473410929662, 2057.6125574199273, 0.00019686883724178908, 0.9128869508184969, 136.59945059510562, 368.048751989127, 0.0083909932793384, 1.6727907659155636, 31.60111692929592, 39.18488500543988, 0.00018457934611317405, 1.317064883120201, 387.2475249196797, 22805426.35389225, 1.2712542460691677e-49, 2.71587587756137e-14, 327.8202187831113, 71374.53444722715, 2.60084845143882e-09, 0.8325882716914322, 235.4959952584869, 1187.346381312846, -488.51868124451573, -368.96892823189984, -258.7500311030517, -217.62945811084512, 3.292864702802909e-08, 0.053852661879609284, 276.1065753180568, 4153.705337354706, 0.0, 0.0, 62.0, 277.5, 0.0, 1.0, 312.0, 4431.0, 0.0, 0.0, 257.75, 4086.0, 13.0, -35.0, -155.0, -264.0, 5.629449904519547e-05, 0.3190992335190674, 7.783076791703699, 15.612907941901232, 0.0016376528359299464, 0.5951127237865729, 16.146507328838382, 40.73409517276282, -78.33233129988304, -335.1159185300531, -961.2052312795523, -1497.7503813249962, 1.2314112144985158e-08, 0.008960547370108096, 59.69243261245841, 668.8182199678995, -1.9999999742611225, -136.58321733478436, 56658.59477182635, 1866440.5164113739, 0.0, 0.0, 17719.42619488311, 1231597.844819503, 1.0000070036512818, 46.41275462954346, 10950.486947244335, 87768.01065270705, 4.5533937949024383e-05, 0.004995356474535867, 0.06753757011043357, 0.10946633821665853, 0.016701298500721107, 0.16807372043032165, 0.22913194729017067, 0.24687671913979925, -1.999999999482934, -9.999530586401063, -29.234370219864736, -46.37017167136479, 2.2759584014653278e-07, 0.30078443184847303, 0.5038081591193748, 0.575963585844548, 4.003085202835666, 182.52156339894148, 1758.121341195405, 4940.322717953718, -3.9669372696441005, -18.57790349121416, 10435.75287692153, 2553721.7474660613, 3.5286665931943107e-07, 0.00039658893928222754, 8.046737539594233, 25512.328597970052, 0.00031569447706471113, 0.0023329831443796075, 2.0550236407063373e-11, 1.1789847868312567e-19, -0.749997339009834, 7.571346428786026e-78, 4.3402960507352576e-232, 0.0, -0.999999027770013, 0.0004553290912439608, 1.2905359371925014e-11, 2.3355292127680664e-19, 9.947899217710443e-06, 20.034418131406625, 98.40569538348703, 198.98267473467007, 7.523545245208626e-10, 0.031093480369527776, 117.41684056863943, 512.6227723817741, 0.0, 4.40258959605145, 6.720846717881283, 7.795921123387342]\n",
      "dlstm\\_new dlstm\\_original\n"
     ]
    }
   ],
   "source": [
    "stats_results = dict()\n",
    "wilcoxon_alternativies = ['two-sided', 'greater', 'less']\n",
    "exp_ids = full_table['ID'].unique()\n",
    "for exp_idA in exp_ids:\n",
    "    perf_idA = list(data_tables[exp_idA]['Performance'])    \n",
    "    # Experiments\n",
    "    for exp_idB in exp_ids:\n",
    "        perf_idB = list(data_tables[exp_idB]['Performance'])\n",
    "        # Wilcoxon\n",
    "        for alternative in wilcoxon_alternativies:\n",
    "            if exp_idA != exp_idB:\n",
    "                if perf_idA == perf_idB:\n",
    "                    print(perf_idA)\n",
    "                    print(exp_idA, exp_idB)\n",
    "                    break\n",
    "            _, p_value = st.wilcoxon(perf_idA, perf_idB, alternative=alternative) if exp_idA != exp_idB else (_, 1)\n",
    "            stats_results[(exp_idA, exp_idB, 'wilcoxon', alternative)] = p_value\n",
    "        # Percentage \n",
    "        percentage = success_comparison(perf_idA, perf_idB)\n",
    "        stats_results[(exp_idA, exp_idB, 'percentage')] = np.mean(percentage)\n",
    "    \n",
    "    # Literature\n",
    "    # uMH_pop30\n",
    "    for alternative in wilcoxon_alternativies:\n",
    "        _, p_value = st.wilcoxon(perf_idA, uMH_pop30_performance, alternative=alternative)\n",
    "        stats_results[(exp_idA, 'unfolded\\_mh\\_pop30', 'wilcoxon', alternative)] = p_value\n",
    "\n",
    "    # Basic MHs\n",
    "    dict_basicMH_perf = dict({bMH: [] for bMH in basic_metaheuristics})\n",
    "    for x in basic_mhs_data['results']:\n",
    "        for bMH, y in zip(basic_metaheuristics, x['performance']):\n",
    "            dict_basicMH_perf[bMH].append(y)\n",
    "    for alternative in wilcoxon_alternativies:\n",
    "        for exp_idB, perf_idB in dict_basicMH_perf.items():\n",
    "            _, p_value = st.wilcoxon(perf_idA, perf_idB, alternative=alternative)    \n",
    "            stats_results[(exp_idA, f'bMH_{exp_idB}', 'wilcoxon', alternative)] = p_value\n"
   ]
  },
  {
   "cell_type": "markdown",
   "metadata": {},
   "source": [
    "## Plots"
   ]
  },
  {
   "cell_type": "markdown",
   "metadata": {},
   "source": [
    "### Percentage of winning per dimension"
   ]
  },
  {
   "cell_type": "code",
   "execution_count": 12,
   "metadata": {},
   "outputs": [
    {
     "data": {
      "image/png": "[encoded data removed]",
      "text/plain": [
       "<Figure size 864x504 with 1 Axes>"
      ]
     },
     "metadata": {},
     "output_type": "display_data"
    }
   ],
   "source": [
    "exp_ids = full_table['ID'].unique()\n",
    "exp_dims = full_table['Dim'].unique()\n",
    "\n",
    "exp_ids_list, exp_dims_list, exp_cnt_list = [], [], []\n",
    "for exp_id in exp_ids:\n",
    "    for exp_dim in exp_dims:\n",
    "        exp_ids_list.append(exp_id)\n",
    "        exp_dims_list.append(exp_dim)\n",
    "        cnt = ((full_table['ID'] == exp_id) & (full_table['Dim'] == exp_dim) & (full_table['Rank'] == 1)).sum()\n",
    "        exp_cnt_list.append(cnt)\n",
    "best_table_rank = pd.DataFrame({'ID': exp_ids_list, 'Dim': exp_dims_list, 'Count': exp_cnt_list})\n",
    "\n",
    "sums_dim = dict()\n",
    "for exp_dim in exp_dims:\n",
    "    exp_indices = (best_table_rank['Dim'] == exp_dim)\n",
    "    sums_dim[exp_dim] = best_table_rank[exp_indices]['Count'].sum()\n",
    "        \n",
    "best_table_rank_dim = best_table_rank.copy()\n",
    "for idx in best_table_rank_dim.index:\n",
    "    exp_row = best_table_rank_dim.iloc[idx]\n",
    "    best_table_rank_dim.loc[idx, 'Count'] = 100*exp_row['Count'] / sums_dim[exp_row['Dim']]\n",
    "\n",
    "fig, ax = plt.subplots(figsize=(12,7))\n",
    "\n",
    "p_1_winner = sns.barplot(data=best_table_rank_dim, x='Dim', y='Count', hue='ID', palette='tab20')\n",
    "plt.legend(bbox_to_anchor=(1.01,0.5), loc=\"center left\", borderaxespad=0)\n",
    "p_1_winner.set_xlabel('Dimensions')\n",
    "p_1_winner.set_ylabel('Percentage')\n",
    "fig.subplots_adjust()\n",
    "plt.rc('legend',fontsize=23)\n",
    "plt.xticks(fontsize=25)\n",
    "plt.yticks(fontsize=25)\n",
    "plt.rcParams['axes.labelsize'] = 40\n",
    "plt.rcParams['axes.titlesize'] = 38\n",
    "\n",
    "if is_saving:\n",
    "    plt.savefig(figures_folder + 'Rank_Winner_dim.' + saving_format,\n",
    "               format=saving_format, dpi=333, bbox_inches=\"tight\", transparent=True)\n",
    "if show_plots:\n",
    "    plt.show()"
   ]
  },
  {
   "cell_type": "markdown",
   "metadata": {},
   "source": [
    "### Success against bMH and RS"
   ]
  },
  {
   "cell_type": "code",
   "execution_count": 13,
   "metadata": {},
   "outputs": [
    {
     "data": {
      "image/png": "[encoded data removed]",
      "text/plain": [
       "<Figure size 540x252 with 2 Axes>"
      ]
     },
     "metadata": {},
     "output_type": "display_data"
    },
    {
     "data": {
      "image/png": "[encoded data removed]",
      "text/plain": [
       "<Figure size 540x252 with 2 Axes>"
      ]
     },
     "metadata": {},
     "output_type": "display_data"
    }
   ],
   "source": [
    "# Comparison of experiments against basic MH and uMH30\n",
    "success_table_basic = full_table.groupby(['ID', 'Dim'])['successRate'].mean()\n",
    "success_table_uMH30 = full_table.groupby(['ID', 'Dim'])['successRateUMH30'].mean()\n",
    "table_bydim_basic = success_table_basic.reset_index().set_index('Dim')\n",
    "table_bydim_uMH30 = success_table_uMH30.reset_index().set_index('Dim')\n",
    "\n",
    "exp_ids_dict = dict()\n",
    "exp_avgs_dict = dict({\n",
    "    'Basic MHs': [],\n",
    "    'RS MHs': []\n",
    "})\n",
    "for exp_id in exp_ids:\n",
    "    # Retrieve rates\n",
    "    exp_ids_dict['Basic MHs'] = list(table_bydim_basic[table_bydim_basic['ID'] == exp_id]['successRate']*100) \n",
    "    exp_ids_dict['RS MHs'] = list(table_bydim_uMH30[table_bydim_uMH30['ID'] == exp_id]['successRateUMH30']*100) \n",
    "\n",
    "    avg_mh = np.average(exp_ids_dict['Basic MHs'])\n",
    "    avg_rs = np.average(exp_ids_dict['RS MHs'])\n",
    "    exp_avgs_dict['Basic MHs'].append(avg_mh)\n",
    "    exp_avgs_dict['RS MHs'].append(avg_rs)\n",
    "    # Convert to DF\n",
    "    df_exp = pd.DataFrame(exp_ids_dict, index=exp_dims)\n",
    "    df_exp = df_exp.rename_axis('Dimensions')\n",
    "    df_exp = df_exp.T\n",
    "    # Plot\n",
    "    fig, ax = plt.subplots(figsize=(7.5,3.5))\n",
    "    fig.subplots_adjust()\n",
    "    sns.heatmap(df_exp, vmin=0, vmax=100, annot=True,  cmap=\"YlGnBu\")\n",
    "    plt.title(f'Percentage comparison for {exp_id}')\n",
    "    plt.rcParams['axes.labelsize'] = 24\n",
    "    plt.rcParams['axes.titlesize'] = 24\n",
    "    plt.xticks(fontsize=20)\n",
    "    plt.yticks(fontsize=19)\n",
    "\n",
    "    if is_saving:\n",
    "        id_text = exp_id.replace('\\\\', '')\n",
    "        plt.savefig(figures_folder  +  f'{id_text}_Percentage_cmp_BMH_UMH30.' + saving_format,\n",
    "                format=saving_format, dpi=333, bbox_inches=\"tight\", transparent=True)\n",
    "    if show_plots:\n",
    "        plt.show()"
   ]
  },
  {
   "cell_type": "markdown",
   "metadata": {},
   "source": [
    "### Overall percentage against literature"
   ]
  },
  {
   "cell_type": "code",
   "execution_count": 14,
   "metadata": {},
   "outputs": [
    {
     "data": {
      "image/png": "[encoded data removed]",
      "text/plain": [
       "<Figure size 864x252 with 2 Axes>"
      ]
     },
     "metadata": {},
     "output_type": "display_data"
    }
   ],
   "source": [
    "# Experiments vs Literature\n",
    "\n",
    "# Dataframe\n",
    "df_exps = pd.DataFrame(exp_avgs_dict, index=exp_ids)\n",
    "df_exps = df_exps.rename_axis('Experiments')\n",
    "# Plot\n",
    "fig, ax = plt.subplots(figsize=(12,3.5))\n",
    "plt.rc('font', size=23)\n",
    "plt.xticks(fontsize=20)\n",
    "plt.yticks(fontsize=20)\n",
    "plt.rcParams['axes.labelsize'] = 28\n",
    "plt.rcParams['axes.titlesize'] = 28\n",
    "sns.heatmap(df_exps.T, vmin=0, vmax=100, annot=True,  cmap=\"YlGnBu\")\n",
    "locs, labels = plt.xticks()\n",
    "plt.setp(labels, rotation=45)\n",
    "fig.subplots_adjust()\n",
    "plt.title(f'Benchmark comparison')\n",
    "\n",
    "if is_saving:\n",
    "    plt.savefig(figures_folder  +  f'cmp_BMH_UMH30.' + saving_format,\n",
    "            format=saving_format, dpi=333, bbox_inches=\"tight\", transparent=True)\n",
    "if show_plots:\n",
    "    plt.show()"
   ]
  },
  {
   "cell_type": "markdown",
   "metadata": {},
   "source": [
    "### Wilcoxon test (per experiment)"
   ]
  },
  {
   "cell_type": "code",
   "execution_count": 15,
   "metadata": {},
   "outputs": [
    {
     "data": {
      "image/png": "[encoded data removed]",
      "text/plain": [
       "<Figure size 432x288 with 1 Axes>"
      ]
     },
     "metadata": {},
     "output_type": "display_data"
    },
    {
     "data": {
      "image/png": "[encoded data removed]",
      "text/plain": [
       "<Figure size 432x288 with 1 Axes>"
      ]
     },
     "metadata": {},
     "output_type": "display_data"
    }
   ],
   "source": [
    "# Wilcoxon test (Alternative: Less)\n",
    "p_value = 0.05\n",
    "\n",
    "plt.rc('font', size=18)     \n",
    "plt.rcParams['axes.labelsize'] = 21\n",
    "plt.rcParams['axes.titlesize'] = 21\n",
    "\n",
    "for exp_id in exp_ids:\n",
    "    # Dataframe\n",
    "    p_values_bMHs = [stats_results[(exp_id, f'bMH_{bMH}', 'wilcoxon', 'less')]\n",
    "                     for bMH in basic_metaheuristics]\n",
    "    df_pvalues = pd.DataFrame({'Basic MH': basic_metaheuristics,\n",
    "                               'p-value': p_values_bMHs })\n",
    "    # Plot\n",
    "    fig, ax = plt.subplots(figsize=(6,4))\n",
    "    fig.subplots_adjust()\n",
    "    barplottt = sns.barplot(x=df_pvalues['Basic MH'], y=df_pvalues['p-value'], palette='tab10')\n",
    "    ax.axhline(y=p_value, color='black', linestyle='--')\n",
    "    barplottt.set_yscale('log')\n",
    "    barplottt.set(xticks=[])\n",
    "    ax.set_xlabel('Basic metaheuristics')\n",
    "    ax.set_ylabel('$p$-value')\n",
    "    ax.set_title(f\"Wilcoxon test ({exp_id})\")\n",
    "    id_text = exp_id.replace('\\\\', '')\n",
    "\n",
    "    if is_saving:\n",
    "        plt.savefig(figures_folder +  f'{id_text}_pvalue_log_scale.' + saving_format,\n",
    "                format=saving_format, dpi=333, bbox_inches=\"tight\", transparent=True)\n",
    "    if show_plots:\n",
    "        plt.show()"
   ]
  },
  {
   "cell_type": "markdown",
   "metadata": {},
   "source": [
    "### Wilcoxon results - Raw p-values vs literature"
   ]
  },
  {
   "cell_type": "code",
   "execution_count": 16,
   "metadata": {},
   "outputs": [
    {
     "name": "stdout",
     "output_type": "stream",
     "text": [
      "Experiment dlstm\\_original vs uMH30; pvalue =  3.3709501936821734e-31\n",
      "Experiment dlstm\\_new vs uMH30; pvalue =  3.3709501936821734e-31\n",
      "\n",
      "Experiment dlstm\\_original vs bMHs; pvalue =  0.2971258201599082\n",
      "Experiment dlstm\\_new vs bMHs; pvalue =  0.2971258201599082\n"
     ]
    }
   ],
   "source": [
    "# Comparison against uMH30 \n",
    "for exp_id in exp_ids:\n",
    "    print(f'Experiment {exp_id} vs uMH30; pvalue = ', stats_results[(exp_id, 'unfolded\\_mh\\_pop30', 'wilcoxon', 'less')])\n",
    "print()\n",
    "\n",
    "# Multicomparison against bMHs\n",
    "for exp_id in exp_ids:\n",
    "    p_values_bMHs = [stats_results[(exp_id, f'bMH_{bMH}', 'wilcoxon', 'less')]\n",
    "                     for bMH in basic_metaheuristics]  \n",
    "    p_values_bMHs = [mpf(pvalue) for pvalue in p_values_bMHs]\n",
    "    p_value_mix = 1 - np.prod(1 - np.array(p_values_bMHs))\n",
    "    print(f'Experiment {exp_id} vs bMHs; pvalue = ', round(p_value_mix, 20))"
   ]
  },
  {
   "cell_type": "markdown",
   "metadata": {},
   "source": [
    "### Wilcoxon matrix (partial order)"
   ]
  },
  {
   "cell_type": "code",
   "execution_count": 17,
   "metadata": {},
   "outputs": [
    {
     "ename": "KeyError",
     "evalue": "('dlstm\\\\_original', 'dlstm\\\\_new', 'wilcoxon', 'two-sided')",
     "output_type": "error",
     "traceback": [
      "\u001b[0;31m---------------------------------------------------------------------------\u001b[0m",
      "\u001b[0;31mKeyError\u001b[0m                                  Traceback (most recent call last)",
      "\u001b[1;32m/Users/josetapia/dev/customhys/processing_results_nnhh.ipynb Cell 42\u001b[0m in \u001b[0;36m<cell line: 7>\u001b[0;34m()\u001b[0m\n\u001b[1;32m     <a href='vscode-notebook-cell:/Users/josetapia/dev/customhys/processing_results_nnhh.ipynb#X56sZmlsZQ%3D%3D?line=11'>12</a>\u001b[0m dict_comparison \u001b[39m=\u001b[39m \u001b[39mdict\u001b[39m()\n\u001b[1;32m     <a href='vscode-notebook-cell:/Users/josetapia/dev/customhys/processing_results_nnhh.ipynb#X56sZmlsZQ%3D%3D?line=13'>14</a>\u001b[0m \u001b[39mfor\u001b[39;00m exp_idA \u001b[39min\u001b[39;00m exp_ids:\n\u001b[0;32m---> <a href='vscode-notebook-cell:/Users/josetapia/dev/customhys/processing_results_nnhh.ipynb#X56sZmlsZQ%3D%3D?line=14'>15</a>\u001b[0m     p_values_B \u001b[39m=\u001b[39m [stats_results[(exp_idA, exp_idB, \u001b[39m'\u001b[39m\u001b[39mwilcoxon\u001b[39m\u001b[39m'\u001b[39m, alternative)]\n\u001b[1;32m     <a href='vscode-notebook-cell:/Users/josetapia/dev/customhys/processing_results_nnhh.ipynb#X56sZmlsZQ%3D%3D?line=15'>16</a>\u001b[0m                     \u001b[39mfor\u001b[39;00m exp_idB \u001b[39min\u001b[39;00m exp_ids]\n\u001b[1;32m     <a href='vscode-notebook-cell:/Users/josetapia/dev/customhys/processing_results_nnhh.ipynb#X56sZmlsZQ%3D%3D?line=16'>17</a>\u001b[0m     dict_comparison[exp_idA] \u001b[39m=\u001b[39m [\u001b[39mround\u001b[39m(pvalue, \u001b[39m2\u001b[39m) \u001b[39mfor\u001b[39;00m pvalue \u001b[39min\u001b[39;00m p_values_B]\n\u001b[1;32m     <a href='vscode-notebook-cell:/Users/josetapia/dev/customhys/processing_results_nnhh.ipynb#X56sZmlsZQ%3D%3D?line=18'>19</a>\u001b[0m df_comparison \u001b[39m=\u001b[39m pd\u001b[39m.\u001b[39mDataFrame(dict_comparison, index\u001b[39m=\u001b[39mexp_ids)\n",
      "\u001b[1;32m/Users/josetapia/dev/customhys/processing_results_nnhh.ipynb Cell 42\u001b[0m in \u001b[0;36m<listcomp>\u001b[0;34m(.0)\u001b[0m\n\u001b[1;32m     <a href='vscode-notebook-cell:/Users/josetapia/dev/customhys/processing_results_nnhh.ipynb#X56sZmlsZQ%3D%3D?line=11'>12</a>\u001b[0m dict_comparison \u001b[39m=\u001b[39m \u001b[39mdict\u001b[39m()\n\u001b[1;32m     <a href='vscode-notebook-cell:/Users/josetapia/dev/customhys/processing_results_nnhh.ipynb#X56sZmlsZQ%3D%3D?line=13'>14</a>\u001b[0m \u001b[39mfor\u001b[39;00m exp_idA \u001b[39min\u001b[39;00m exp_ids:\n\u001b[0;32m---> <a href='vscode-notebook-cell:/Users/josetapia/dev/customhys/processing_results_nnhh.ipynb#X56sZmlsZQ%3D%3D?line=14'>15</a>\u001b[0m     p_values_B \u001b[39m=\u001b[39m [stats_results[(exp_idA, exp_idB, \u001b[39m'\u001b[39;49m\u001b[39mwilcoxon\u001b[39;49m\u001b[39m'\u001b[39;49m, alternative)]\n\u001b[1;32m     <a href='vscode-notebook-cell:/Users/josetapia/dev/customhys/processing_results_nnhh.ipynb#X56sZmlsZQ%3D%3D?line=15'>16</a>\u001b[0m                     \u001b[39mfor\u001b[39;00m exp_idB \u001b[39min\u001b[39;00m exp_ids]\n\u001b[1;32m     <a href='vscode-notebook-cell:/Users/josetapia/dev/customhys/processing_results_nnhh.ipynb#X56sZmlsZQ%3D%3D?line=16'>17</a>\u001b[0m     dict_comparison[exp_idA] \u001b[39m=\u001b[39m [\u001b[39mround\u001b[39m(pvalue, \u001b[39m2\u001b[39m) \u001b[39mfor\u001b[39;00m pvalue \u001b[39min\u001b[39;00m p_values_B]\n\u001b[1;32m     <a href='vscode-notebook-cell:/Users/josetapia/dev/customhys/processing_results_nnhh.ipynb#X56sZmlsZQ%3D%3D?line=18'>19</a>\u001b[0m df_comparison \u001b[39m=\u001b[39m pd\u001b[39m.\u001b[39mDataFrame(dict_comparison, index\u001b[39m=\u001b[39mexp_ids)\n",
      "\u001b[0;31mKeyError\u001b[0m: ('dlstm\\\\_original', 'dlstm\\\\_new', 'wilcoxon', 'two-sided')"
     ]
    },
    {
     "data": {
      "image/png": "[encoded data removed]",
      "text/plain": [
       "<Figure size 576x432 with 1 Axes>"
      ]
     },
     "metadata": {},
     "output_type": "display_data"
    }
   ],
   "source": [
    "# Wilcoxon between exp_ids (all alternativies)\n",
    "colors_alt = dict({\n",
    "    'two-sided': 'Greens',\n",
    "    'less': 'Reds',\n",
    "    'greater': 'Blues'\n",
    "})\n",
    "for alternative in wilcoxon_alternativies:\n",
    "    fig, ax = plt.subplots(figsize=(8,6))\n",
    "    plt.rc('font', size=18)\n",
    "\n",
    "    fig.subplots_adjust()\n",
    "    dict_comparison = dict()\n",
    "\n",
    "    for exp_idA in exp_ids:\n",
    "        p_values_B = [stats_results[(exp_idA, exp_idB, 'wilcoxon', alternative)]\n",
    "                        for exp_idB in exp_ids]\n",
    "        dict_comparison[exp_idA] = [round(pvalue, 2) for pvalue in p_values_B]\n",
    "\n",
    "    df_comparison = pd.DataFrame(dict_comparison, index=exp_ids)\n",
    "    sns.heatmap(df_comparison, vmin=0, vmax=1, annot=True,  cmap=colors_alt[alternative])\n",
    "    ax.set_title(f'Alternative: {alternative}')\n",
    "    ax.set_xlabel('$B$')\n",
    "    ax.set_ylabel('$A$')\n",
    "    if is_saving:\n",
    "        plt.savefig(figures_folder + f'wilcoxon_all_pairs_{alternative}.' + saving_format,\n",
    "                format=saving_format, dpi=333, bbox_inches=\"tight\", transparent=True)\n",
    "    if show_plots:\n",
    "        plt.show()\n"
   ]
  },
  {
   "cell_type": "markdown",
   "metadata": {},
   "source": [
    "### Winners per category"
   ]
  },
  {
   "cell_type": "code",
   "execution_count": 1,
   "metadata": {},
   "outputs": [
    {
     "ename": "NameError",
     "evalue": "name 'full_table' is not defined",
     "output_type": "error",
     "traceback": [
      "\u001b[0;31m---------------------------------------------------------------------------\u001b[0m",
      "\u001b[0;31mNameError\u001b[0m                                 Traceback (most recent call last)",
      "\u001b[1;32m/Users/josetapia/dev/customhys/processing_results_nnhh.ipynb Cell 44\u001b[0m in \u001b[0;36m<cell line: 2>\u001b[0;34m()\u001b[0m\n\u001b[1;32m      <a href='vscode-notebook-cell:/Users/josetapia/dev/customhys/processing_results_nnhh.ipynb#X61sZmlsZQ%3D%3D?line=0'>1</a>\u001b[0m \u001b[39m# Comparison of winners per category \u001b[39;00m\n\u001b[0;32m----> <a href='vscode-notebook-cell:/Users/josetapia/dev/customhys/processing_results_nnhh.ipynb#X61sZmlsZQ%3D%3D?line=1'>2</a>\u001b[0m rank_1 \u001b[39m=\u001b[39m full_table[\u001b[39m'\u001b[39m\u001b[39mRank\u001b[39m\u001b[39m'\u001b[39m] \u001b[39m==\u001b[39m \u001b[39m1\u001b[39m\n\u001b[1;32m      <a href='vscode-notebook-cell:/Users/josetapia/dev/customhys/processing_results_nnhh.ipynb#X61sZmlsZQ%3D%3D?line=2'>3</a>\u001b[0m table_rank_1 \u001b[39m=\u001b[39m full_table[rank_1]\n\u001b[1;32m      <a href='vscode-notebook-cell:/Users/josetapia/dev/customhys/processing_results_nnhh.ipynb#X61sZmlsZQ%3D%3D?line=3'>4</a>\u001b[0m plt\u001b[39m.\u001b[39mrc(\u001b[39m'\u001b[39m\u001b[39mfont\u001b[39m\u001b[39m'\u001b[39m, size\u001b[39m=\u001b[39m\u001b[39m18\u001b[39m)\n",
      "\u001b[0;31mNameError\u001b[0m: name 'full_table' is not defined"
     ]
    }
   ],
   "source": [
    "# Comparison of winners per category \n",
    "rank_1 = full_table['Rank'] == 1\n",
    "table_rank_1 = full_table[rank_1]\n",
    "plt.rc('font', size=18)\n",
    "\n",
    "plt_sns = sns.catplot(data=table_rank_1, hue='ID', x='Rank',\n",
    "                      row='Cat',  col='Dim', kind='count', \n",
    "                      height=3.5, aspect=0.8, legend=True,\n",
    "                      palette='tab20', margin_titles=True)\n",
    "plt_sns.set(xlabel=None).set(xticklabels=[])\n",
    "plt_sns.set_ylabels('Count')\n",
    "\n",
    "plt.rc('legend',fontsize=20)\n",
    "plt.yticks(fontsize=24)\n",
    "plt.rcParams['axes.labelsize'] = 30\n",
    "\n",
    "if is_saving:\n",
    "    plt.savefig(figures_folder + 'Rank_vs_Id_and_Dim_Cat-BestRanked.' + saving_format,\n",
    "               format=saving_format, dpi=333, bbox_inches=\"tight\", transparent=True)\n",
    "\n",
    "if show_plots:\n",
    "    plt.show()"
   ]
  },
  {
   "cell_type": "markdown",
   "metadata": {},
   "source": [
    "## Additional plots"
   ]
  },
  {
   "cell_type": "markdown",
   "metadata": {},
   "source": [
    "### Collection plot"
   ]
  },
  {
   "cell_type": "code",
   "execution_count": null,
   "metadata": {},
   "outputs": [],
   "source": [
    "default_heuristic_space = encoded_heuristic_space['default.txt']\n",
    "\n",
    "mh_so = [mh.replace('_', '\\_') for mh, _, _ in default_heuristic_space]\n",
    "sel_so= [sel.replace('_', '\\_') for _, _, sel in default_heuristic_space]\n",
    "df_default = pd.DataFrame({'Metaheuristic': mh_so, 'Selector': sel_so})\n",
    "\n",
    "\n",
    "fig, ax = plt.subplots(figsize=(12,6))\n",
    "fig.subplots_adjust()\n",
    "plt.rc('font', size=18) \n",
    "so_dist = sns.countplot(data=df_default, x='Metaheuristic', hue='Selector', ax=ax, palette='tab10')\n",
    "locs, labels = plt.xticks()\n",
    "plt.setp(labels, rotation=45)\n",
    "so_dist.set_xlabel(r'Basic metaheuristic search operators')\n",
    "so_dist.set_ylabel(r'Number of search operators')\n",
    "\n",
    "if is_saving:\n",
    "    plt.savefig(figures_folder + 'search_operators_collection_default.' + saving_format,\n",
    "               format=saving_format, dpi=333, bbox_inches=\"tight\", transparent=True)\n",
    "if show_plots:\n",
    "    plt.show()"
   ]
  },
  {
   "cell_type": "markdown",
   "metadata": {},
   "source": [
    "### Wilcoxon test - Multicomparison of basic metaheuristics per experiment"
   ]
  },
  {
   "cell_type": "code",
   "execution_count": null,
   "metadata": {},
   "outputs": [],
   "source": [
    "plt.rcParams['axes.labelsize'] = 21\n",
    "plt.rcParams['axes.titlesize'] = 21\n",
    "mp.dps = 1e3\n",
    "\n",
    "for exp_id in exp_ids:\n",
    "    p_values_bMHs = [stats_results[(exp_id, f'bMH_{bMH}', 'wilcoxon', 'less')]\n",
    "                     for bMH in basic_metaheuristics]\n",
    "    p_values_bMHs.sort()\n",
    "\n",
    "    acum = mpf(1)\n",
    "    join_pval = []\n",
    "    for p_value in p_values_bMHs:\n",
    "        acum *= 1 - mpf(p_value)\n",
    "        join_pval.append(float(1 - acum))\n",
    "    \n",
    "    # Plot\n",
    "    fig, ax = plt.subplots(figsize=(6,4))\n",
    "    fig.subplots_adjust()\n",
    "    barplottt = sns.barplot(x=basic_metaheuristics, y=join_pval, palette='tab10')\n",
    "    ax.axhline(y=0.05, color='black', linestyle='--')\n",
    "    barplottt.set_yscale('log')\n",
    "    barplottt.set(xticks=[])\n",
    "    ax.set_xlabel('Basic metaheuristics')\n",
    "    ax.set_ylabel('$p$-value')\n",
    "    ax.set_title(f\"Wilcoxon test ({exp_id})\")\n",
    "    id_text = exp_id.replace('\\\\', '')\n",
    "    \n",
    "    \n",
    "    if is_saving:\n",
    "        plt.savefig(figures_folder +  f'{id_text}_groups_wilcoxon.' + saving_format,\n",
    "                format=saving_format, dpi=333, bbox_inches=\"tight\", transparent=True)\n",
    "    if show_plots:\n",
    "        plt.show()\n"
   ]
  },
  {
   "cell_type": "markdown",
   "metadata": {},
   "source": [
    "### Cardinality of sequences"
   ]
  },
  {
   "cell_type": "code",
   "execution_count": null,
   "metadata": {},
   "outputs": [],
   "source": [
    "sns.displot(data=full_table, hue='ID', col='Dim', x='Cardinality', kind='kde', palette='tab10', height=3.5,\n",
    "            aspect=0.8, fill=True)\n",
    "\n",
    "if is_saving:\n",
    "    plt.savefig(figures_folder + 'Card_vs_Dim_Id-KDE.' + saving_format, format=saving_format, dpi=333, bbox_inches=\"tight\", transparent=True)\n",
    "if show_plots:\n",
    "    plt.show()"
   ]
  }
 ],
 "metadata": {
  "interpreter": {
   "hash": "13a1a4c7f867d5ec33b811066f10a0e467cde7b9dca366a8ff958366b3d34ba1"
  },
  "kernelspec": {
   "display_name": "Python 3.9.10 ('tensorflow')",
   "language": "python",
   "name": "python3"
  },
  "language_info": {
   "codemirror_mode": {
    "name": "ipython",
    "version": 3
   },
   "file_extension": ".py",
   "mimetype": "text/x-python",
   "name": "python",
   "nbconvert_exporter": "python",
   "pygments_lexer": "ipython3",
   "version": "3.9.10"
  },
  "orig_nbformat": 4
 },
 "nbformat": 4,
 "nbformat_minor": 2
}
