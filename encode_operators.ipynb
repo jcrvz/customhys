{
 "cells": [
  {
   "cell_type": "code",
   "execution_count": 62,
   "metadata": {},
   "outputs": [],
   "source": [
    "from operators import get_operator_aliases\n",
    "\n",
    "def get_operator_param_names():\n",
    "  return {\n",
    "  'random_search': ['scale', 'distribution'],\n",
    "  'central_force_dynamic': ['gravity', 'alpha', 'beta', 'dt'],\n",
    "  'differential_mutation': ['expression', 'num_rands', 'factor'],\n",
    "  'firefly_dynamic': ['distribution', 'alpha', 'beta', 'gamma'],\n",
    "  'genetic_crossover': ['pairing', 'crossover', 'mating_pool_factor'],\n",
    "  'genetic_mutation': ['scale', 'elite_rate', 'mutation_rate', 'distribution'],\n",
    "  'gravitational_search': ['gravity', 'alpha'],\n",
    "  'random_flight': ['scale', 'distribution'],\n",
    "  'local_random_walk': ['probability', 'scale', 'distribution'],\n",
    "  'random_sample': [],\n",
    "  'spiral_dynamic': ['radius', 'angle', 'sigma'],\n",
    "  'swarm_dynamic': ['factor', 'self_conf', 'swarm_conf', 'version', 'distribution']\n",
    "  }\n",
    "\n",
    "def get_inverse_operator_aliases():\n",
    "  return {\n",
    "  'RS': 'random_search',\n",
    "  'CF': 'central_force_dynamic',\n",
    "  'DM': 'differential_mutation',\n",
    "  'FD': 'firefly_dynamic',\n",
    "  'GC': 'genetic_crossover',\n",
    "  'GM': 'genetic_mutation',\n",
    "  'GS': 'gravitational_search',\n",
    "  'RF': 'random_flight',\n",
    "  'RW': 'local_random_walk',\n",
    "  'RX': 'random_sample',\n",
    "  'SD': 'spiral_dynamic',\n",
    "  'PS': 'swarm_dynamic'\n",
    "  }, {\n",
    "    'g': 'greedy', \n",
    "    'd': 'all', \n",
    "    'm': 'metropolis', \n",
    "    'p': 'probabilistic'\n",
    "  }\n",
    "\n",
    "\n",
    "def get_inverse_str_args():\n",
    "  return {\n",
    "  'u': 'uniform',\n",
    "  'rand': 'rand',\n",
    "  'best': 'best',\n",
    "  'current': 'current',\n",
    "  'currenttobest': 'current-to-best',\n",
    "  'randtobest': 'rand-to-best',\n",
    "  'randtobestandcurrent': 'rand-to-best-and-current',\n",
    "  'g': 'gaussian',\n",
    "  'levy': 'levy',\n",
    "  'rank': 'rank',\n",
    "  's': 'single',\n",
    "  'cost': 'cost',\n",
    "  'r': 'random',\n",
    "  't': 'tournament_2_100',\n",
    "  'two': 'two',\n",
    "  'b': 'blend',\n",
    "  'l': 'linear_0.5_0.5',\n",
    "  'i': 'inertial',\n",
    "  'c': 'constriction'\n",
    "  }\n",
    "  \n",
    "perturbator_alias, selector_alias = get_operator_aliases()\n",
    "inverse_perturbator_alias, inverse_selector_alias = get_inverse_operator_aliases()\n",
    "args_perturbators = get_operator_param_names()\n",
    "inverse_args = get_inverse_str_args()\n",
    "\n"
   ]
  },
  {
   "cell_type": "code",
   "execution_count": 63,
   "metadata": {},
   "outputs": [],
   "source": [
    "# Read operators and find their alias\n",
    "collections = ['default.txt', 'basicmetaheuristics.txt']\n",
    "\n",
    "encoded_heuristic_space = dict()\n",
    "operators_string = dict()\n",
    "for collection_file in collections:\n",
    "    with open('./collections/' + collection_file, 'r') as operators_file:\n",
    "        operators_string[collection_file] = [line.rstrip('\\n') for line in operators_file]\n",
    "        encoded_heuristic_space[collection_file] = [eval(line) for line in operators_string[collection_file]]"
   ]
  },
  {
   "cell_type": "code",
   "execution_count": 66,
   "metadata": {},
   "outputs": [],
   "source": [
    "def convert_param(param_value):\n",
    "  if type(param_value) == str:\n",
    "    param_components = param_value.split('-')\n",
    "    component_compressed = []\n",
    "    for component in param_components:\n",
    "      if len(component) > 4 and component != 'current':\n",
    "        component_compressed.append(component[0])\n",
    "      else:\n",
    "        component_compressed.append(component)\n",
    "    str_components = ''.join(component_compressed)\n",
    "    return str_components, param_value\n",
    "  else:\n",
    "    return str(param_value), param_value\n",
    "  \n",
    "\n",
    "def get_inverse_arg(arg_value):\n",
    "  try:\n",
    "    # Return float number if possible\n",
    "    return float(arg_value)\n",
    "  except:\n",
    "    # Decompress string\n",
    "    return inverse_args[arg_value]\n",
    "\n",
    "  \n",
    "def compress_operator(operator):\n",
    "  perturbator, args, selector = operator\n",
    "  params = ';'.join([convert_param(arg)[0] for arg in args.values()])\n",
    "  conv_perturbator = perturbator_alias[perturbator]\n",
    "  conv_selector = selector_alias[selector]\n",
    "  compress_operator = ','.join([conv_perturbator, params, conv_selector])\n",
    "  return compress_operator\n",
    "\n",
    "\n",
    "def decompress_operator(compress_operator):\n",
    "  conv_perturbator, params, conv_selector = compress_operator.split(',')\n",
    "  perturbator = inverse_perturbator_alias[conv_perturbator]\n",
    "  selector = inverse_selector_alias[conv_selector]\n",
    "  compressed_arg_values = params.split(';')\n",
    "  arg_values = [get_inverse_arg(arg_value) for arg_value in compressed_arg_values]\n",
    "  args = {}\n",
    "  arg_names = args_perturbators[perturbator]\n",
    "  for key, value in zip(arg_names, arg_values):\n",
    "    args[key] = value\n",
    "  return perturbator, args, selector\n",
    "  "
   ]
  },
  {
   "cell_type": "code",
   "execution_count": 67,
   "metadata": {},
   "outputs": [
    {
     "name": "stdout",
     "output_type": "stream",
     "text": [
      "('differential_mutation', {'expression': 'random', 'num_rands': 1, 'factor': 1.0}, 'metropolis')\n"
     ]
    }
   ],
   "source": [
    "operator = ('differential_mutation',\n",
    " {'expression': 'random', 'num_rands': 1, 'factor': 1.0},\n",
    " 'metropolis')\n",
    "\n",
    "compressed_operator = compress_operator(operator)\n",
    "decompressed_operator = decompress_operator(compressed_operator)\n",
    "print(operator)"
   ]
  },
  {
   "cell_type": "code",
   "execution_count": 68,
   "metadata": {},
   "outputs": [
    {
     "data": {
      "text/plain": [
       "'DM,r;1;1.0,m'"
      ]
     },
     "execution_count": 68,
     "metadata": {},
     "output_type": "execute_result"
    }
   ],
   "source": [
    "compress_operator(('differential_mutation',\n",
    " {'expression': 'random', 'num_rands': 1, 'factor': 1.0},\n",
    " 'metropolis'))"
   ]
  },
  {
   "cell_type": "code",
   "execution_count": 69,
   "metadata": {},
   "outputs": [
    {
     "data": {
      "text/plain": [
       "('differential_mutation',\n",
       " {'expression': 'random', 'num_rands': 1.0, 'factor': 1.0},\n",
       " 'metropolis')"
      ]
     },
     "execution_count": 69,
     "metadata": {},
     "output_type": "execute_result"
    }
   ],
   "source": [
    "decompress_operator('RS,1.0;u,g')\n",
    "decompress_operator('DM,r;1;1.0,m')"
   ]
  },
  {
   "cell_type": "code",
   "execution_count": 61,
   "metadata": {},
   "outputs": [],
   "source": [
    "\n",
    "with open('collections/default_comprissed2.txt', 'w') as file:\n",
    "  for operator in encoded_heuristic_space['default.txt']:\n",
    "    compressed_op = compress_operator(operator)\n",
    "    file.write(compressed_op + '\\n')\n"
   ]
  },
  {
   "cell_type": "code",
   "execution_count": null,
   "metadata": {},
   "outputs": [],
   "source": []
  },
  {
   "cell_type": "code",
   "execution_count": 70,
   "metadata": {},
   "outputs": [],
   "source": [
    "limit_seq = 100\n",
    "\n",
    "seqs, costs = [], []\n",
    "for counting in range(1, 11):\n",
    "  with open(f'vocabulary/seq_read_{counting}.txt', 'r', encoding='utf-8') as file:\n",
    "    seqs = seqs + file.read().split('\\n')  \n",
    "  with open(f'vocabulary/score_{counting}.txt', 'r', encoding='utf-8') as file:\n",
    "    costs = costs + file.read().split('\\n')\n",
    "    "
   ]
  },
  {
   "cell_type": "code",
   "execution_count": null,
   "metadata": {},
   "outputs": [],
   "source": []
  }
 ],
 "metadata": {
  "kernelspec": {
   "display_name": "Python 3.9.10 ('tensorflow')",
   "language": "python",
   "name": "python3"
  },
  "language_info": {
   "codemirror_mode": {
    "name": "ipython",
    "version": 3
   },
   "file_extension": ".py",
   "mimetype": "text/x-python",
   "name": "python",
   "nbconvert_exporter": "python",
   "pygments_lexer": "ipython3",
   "version": "3.9.10"
  },
  "orig_nbformat": 4,
  "vscode": {
   "interpreter": {
    "hash": "13a1a4c7f867d5ec33b811066f10a0e467cde7b9dca366a8ff958366b3d34ba1"
   }
  }
 },
 "nbformat": 4,
 "nbformat_minor": 2
}
